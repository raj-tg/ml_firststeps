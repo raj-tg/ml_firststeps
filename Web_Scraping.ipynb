{
  "nbformat": 4,
  "nbformat_minor": 0,
  "metadata": {
    "colab": {
      "name": "Web Scraping.ipynb",
      "provenance": [],
      "collapsed_sections": [],
      "authorship_tag": "ABX9TyMI4rsexDpr03z78zORuqEb",
      "include_colab_link": true
    },
    "kernelspec": {
      "name": "python3",
      "display_name": "Python 3"
    }
  },
  "cells": [
    {
      "cell_type": "markdown",
      "metadata": {
        "id": "view-in-github",
        "colab_type": "text"
      },
      "source": [
        "<a href=\"https://colab.research.google.com/github/raj-tg/ml_firststeps/blob/master/Web_Scraping.ipynb\" target=\"_parent\"><img src=\"https://colab.research.google.com/assets/colab-badge.svg\" alt=\"Open In Colab\"/></a>"
      ]
    },
    {
      "cell_type": "markdown",
      "metadata": {
        "id": "SXXImxy0ayt-",
        "colab_type": "text"
      },
      "source": [
        "Web Scraping from Grofers.com\n",
        "\n",
        "Extracted the request using Chrome.\n",
        "*   Load Grofers.com and start inspect\n",
        "*   Open networking tab, clear contents and start scrolling the page to initiate a request\n",
        "*   Open the entries to find the get URL initiated to get the content to refresh the page. \n",
        "*   Copy the content as cURL\n",
        "*   Go to https://curl.trillworks.com/ paste the copied cURL content to format it as what we need\n",
        "\n",
        "\n",
        "\n",
        "\n",
        "\n",
        "\n"
      ]
    },
    {
      "cell_type": "code",
      "metadata": {
        "id": "WcRk5Wc9aupw",
        "colab_type": "code",
        "colab": {}
      },
      "source": [
        "import requests\n",
        "import json\n",
        "import io\n",
        "import pandas as pd"
      ],
      "execution_count": 0,
      "outputs": []
    },
    {
      "cell_type": "code",
      "metadata": {
        "id": "s9Y2RFgJbuvJ",
        "colab_type": "code",
        "colab": {}
      },
      "source": [
        "headers = {\n",
        "    #'authority': 'grofers.com',\n",
        "    'app_client': 'consumer_web',\n",
        "    #'device_id': 'e5173e46-24c7-470f-b37a-4fc2cc0f8b3c',\n",
        "    'content-type': 'application/json',\n",
        "    #'access_token': 'null',\n",
        "    'user-agent': 'Mozilla/5.0 (Windows NT 10.0; Win64; x64) AppleWebKit/537.36 (KHTML, like Gecko) Chrome/81.0.4044.138 Safari/537.36',\n",
        "    #'dnt': '1',\n",
        "    #'auth_key': '63c7d949fe428e81c21bc363632fb082056a1ed3efc767867113e902ed1813d6',\n",
        "    'accept': '*/*',\n",
        "    #'sec-fetch-site': 'same-origin',\n",
        "    #'sec-fetch-mode': 'cors',\n",
        "    #'sec-fetch-dest': 'empty',\n",
        "    #'referer': 'https://grofers.com/cn/grocery-staples/cid/16',\n",
        "    #'accept-language': 'en-US,en;q=0.9,ml;q=0.8',\n",
        "    #'cookie': '__cfduid=d96ceb82145ab72f808da555dffc80a941590318116; gr_1_deviceId=e5173e46-24c7-470f-b37a-4fc2cc0f8b3c; __cfruid=e5cbb74ea9ea0148a0a0372b1457cc6fe8bd8c4e-1590318116; rl_anonymous_id=^%^2213568f28-9174-4116-a8e6-cd4ed8d1f036^%^22; rl_user_id=^%^22^%^22; ajs_user_id=null; ajs_group_id=null; ajs_anonymous_id=^%^220d084b2b-0dbb-4abf-96f5-a10d6a396c42^%^22; _gcl_au=1.1.1523808037.1590318119; _ga=GA1.2.1621989342.1590318119; _gid=GA1.2.573814408.1590318119; _sp_ses.bf41=*; AMP_TOKEN=^%^24NOT_FOUND; WZRK_G=31d07a4a709547f9b8de543b4b34154b; __insp_wid=180455199; __insp_nv=true; __insp_targlpu=aHR0cHM6Ly9ncm9mZXJzLmNvbS9jbi9ncm9jZXJ5LXN0YXBsZXMvY2lkLzE2; __insp_targlpt=T3JkZXIgR3JvY2VyeSBPbmxpbmUgaW4gSW5kaWEgQCBEaXNjb3VudGVkIFJhdGVzIGZyb20gR3JvZmVycw^%^3D^%^3D; _hjid=45a91162-ff66-4011-b302-0a2fc939c4ad; _fbp=fb.1.1590318121711.442810255; _hjIncludedInSample=1; __insp_norec_sess=true; gr_1_lat=12.9894395055235; gr_1_locality=3; gr_1_lon=77.7348850599167; _uetsid=bb7fd4d2-58ec-7bd7-c760-4b02c5f9dd39; __insp_slim=1590318708788; city=Bangalore; _sp_id.bf41=3f1e3905e6cbea0e.1590318120.1.1590318719.1590318120.0cb7b387-9422-4189-8e52-a0a29949031c; WZRK_S_RKR-99Z-ZK5Z=^%^7B^%^22p^%^22^%^3A2^%^2C^%^22s^%^22^%^3A1590318122^%^2C^%^22t^%^22^%^3A1590318828^%^7D',\n",
        "}\n",
        "\n",
        "params = (\n",
        "    ('l0_cat', '16'),\n",
        "    ('start', '0'),\n",
        "    ('next', '397'),\n",
        ")\n",
        "\n",
        "response = requests.get('https://grofers.com/v4/search/merchants/26012/products/', headers=headers, params=params)\n",
        "#print(response.text)"
      ],
      "execution_count": 0,
      "outputs": []
    },
    {
      "cell_type": "code",
      "metadata": {
        "id": "BugRc8cJE0PI",
        "colab_type": "code",
        "colab": {}
      },
      "source": [
        "data = json.loads(response.text)\n",
        "#print(data)"
      ],
      "execution_count": 0,
      "outputs": []
    },
    {
      "cell_type": "code",
      "metadata": {
        "id": "w8bJljCTIn6_",
        "colab_type": "code",
        "outputId": "3dfc0208-cc3b-46d9-cea2-440c0b51fe3f",
        "colab": {
          "base_uri": "https://localhost:8080/",
          "height": 35
        }
      },
      "source": [
        "counter = len(data['result']['products'])\n",
        "counter"
      ],
      "execution_count": 322,
      "outputs": [
        {
          "output_type": "execute_result",
          "data": {
            "text/plain": [
              "394"
            ]
          },
          "metadata": {
            "tags": []
          },
          "execution_count": 322
        }
      ]
    },
    {
      "cell_type": "code",
      "metadata": {
        "id": "zbJNZdjSKZHp",
        "colab_type": "code",
        "colab": {}
      },
      "source": [
        "#counter = 5\n",
        "\n",
        "rating = []\n",
        "type_id = []\n",
        "unit = []\n",
        "sbc_price = []\n",
        "unit_price = []\n",
        "unit_type = []\n",
        "price = []\n",
        "discount = []\n",
        "sbc_discount = []\n",
        "product_id = []\n",
        "name = []\n",
        "mrp = []\n",
        "sbc_unit_price = []\n",
        "default_product_id = []\n",
        "brand_id = []\n",
        "unit_price = []\n",
        "item_type = []\n",
        "brand = []\n",
        "brand_type = []\n",
        "\n",
        "for i in range(counter):\n",
        "  rating.append(data['result']['products'][0]['rating'])\n",
        "  type_id.append(data['result']['products'][i]['type_id'])\n",
        "  unit.append(data['result']['products'][i]['unit'])\n",
        "  sbc_price.append(data['result']['products'][i]['sbc_price'])\n",
        "  unit_price.append(data['result']['products'][i]['unit_price'])\n",
        "  unit_type.append(data['result']['products'][i]['unit_type'])\n",
        "  price.append(data['result']['products'][i]['price'])\n",
        "  discount.append(data['result']['products'][i]['discount'])\n",
        "  sbc_discount.append(data['result']['products'][i]['sbc_discount'])\n",
        "  product_id.append(data['result']['products'][i]['product_id'])\n",
        "  name.append(data['result']['products'][i]['name'])\n",
        "  mrp.append(data['result']['products'][i]['mrp'])\n",
        "  sbc_unit_price.append(data['result']['products'][i]['sbc_unit_price'])\n",
        "  default_product_id.append(data['result']['products'][i]['default_product_id'])\n",
        "  brand_id.append(data['result']['products'][i]['brand_id'])\n",
        "  item_type.append(data['result']['products'][i]['type'])\n",
        "  brand.append(data['result']['products'][i]['brand'])\n",
        "  brand_type.append(data['result']['products'][i]['brand_type'])\n",
        "\n",
        "\n",
        "\n"
      ],
      "execution_count": 0,
      "outputs": []
    },
    {
      "cell_type": "code",
      "metadata": {
        "id": "hfmXuadZfV-h",
        "colab_type": "code",
        "outputId": "bfb266d0-9ba5-4d39-8e86-1aa1325b4e28",
        "colab": {
          "base_uri": "https://localhost:8080/",
          "height": 35
        }
      },
      "source": [
        "len(sbc_price)"
      ],
      "execution_count": 324,
      "outputs": [
        {
          "output_type": "execute_result",
          "data": {
            "text/plain": [
              "394"
            ]
          },
          "metadata": {
            "tags": []
          },
          "execution_count": 324
        }
      ]
    },
    {
      "cell_type": "code",
      "metadata": {
        "id": "j57z3blDf7VU",
        "colab_type": "code",
        "outputId": "ccc73696-74b4-455c-9d23-55ab480c34e2",
        "colab": {
          "base_uri": "https://localhost:8080/",
          "height": 35
        }
      },
      "source": [
        "len(unit_price)"
      ],
      "execution_count": 325,
      "outputs": [
        {
          "output_type": "execute_result",
          "data": {
            "text/plain": [
              "394"
            ]
          },
          "metadata": {
            "tags": []
          },
          "execution_count": 325
        }
      ]
    },
    {
      "cell_type": "code",
      "metadata": {
        "id": "xbJoQQw9boDr",
        "colab_type": "code",
        "outputId": "e5cfc7b0-9b81-4efa-b37a-3eeb11a2266c",
        "colab": {
          "base_uri": "https://localhost:8080/",
          "height": 982
        }
      },
      "source": [
        "grofers_df = pd.DataFrame({\n",
        "                           'Product_Id' : product_id,\n",
        "                           'Default_Product_Id': default_product_id,\n",
        "                           'Name' : name,\n",
        "                           'Type_Id'  : type_id,\n",
        "                           'Item_Type': item_type,\n",
        "                           'Brand_Id': brand_id,\n",
        "                           'Brand': brand,\n",
        "                           'Brand_Type': brand_type,\n",
        "                           'Unit'     : unit,\n",
        "                           'Unit_Type' : unit_type,\n",
        "                           'MRP' : mrp,\n",
        "                           'Price': price,\n",
        "                           'Sbc_Price':sbc_price,\n",
        "                           'Unit_Price' : unit_price,\n",
        "                           'Sbc_Unit_Price': sbc_unit_price,\n",
        "                           'Discount': discount,\n",
        "                           'Sbc_discount': sbc_discount,\n",
        "                           'Rating'  : rating               \n",
        "                           })\n",
        "\n",
        "\n",
        "grofers_df.head(10)"
      ],
      "execution_count": 327,
      "outputs": [
        {
          "output_type": "execute_result",
          "data": {
            "text/html": [
              "<div>\n",
              "<style scoped>\n",
              "    .dataframe tbody tr th:only-of-type {\n",
              "        vertical-align: middle;\n",
              "    }\n",
              "\n",
              "    .dataframe tbody tr th {\n",
              "        vertical-align: top;\n",
              "    }\n",
              "\n",
              "    .dataframe thead th {\n",
              "        text-align: right;\n",
              "    }\n",
              "</style>\n",
              "<table border=\"1\" class=\"dataframe\">\n",
              "  <thead>\n",
              "    <tr style=\"text-align: right;\">\n",
              "      <th></th>\n",
              "      <th>Product_Id</th>\n",
              "      <th>Default_Product_Id</th>\n",
              "      <th>Name</th>\n",
              "      <th>Type_Id</th>\n",
              "      <th>Item_Type</th>\n",
              "      <th>Brand_Id</th>\n",
              "      <th>Brand</th>\n",
              "      <th>Brand_Type</th>\n",
              "      <th>Unit</th>\n",
              "      <th>Unit_Type</th>\n",
              "      <th>MRP</th>\n",
              "      <th>Price</th>\n",
              "      <th>Sbc_Price</th>\n",
              "      <th>Unit_Price</th>\n",
              "      <th>Sbc_Unit_Price</th>\n",
              "      <th>Discount</th>\n",
              "      <th>Sbc_discount</th>\n",
              "      <th>Rating</th>\n",
              "    </tr>\n",
              "  </thead>\n",
              "  <tbody>\n",
              "    <tr>\n",
              "      <th>0</th>\n",
              "      <td>370647</td>\n",
              "      <td>370647</td>\n",
              "      <td>Purenut Filtered Groundnut Oil</td>\n",
              "      <td>2015</td>\n",
              "      <td>Groundnut Oil</td>\n",
              "      <td>10260</td>\n",
              "      <td>Purenut</td>\n",
              "      <td>Purenut Groundnut Oil</td>\n",
              "      <td>1 l</td>\n",
              "      <td>l</td>\n",
              "      <td>160</td>\n",
              "      <td>145</td>\n",
              "      <td>143.0</td>\n",
              "      <td>0.1450</td>\n",
              "      <td>0.143</td>\n",
              "      <td>9</td>\n",
              "      <td>10.0</td>\n",
              "      <td>4.2</td>\n",
              "    </tr>\n",
              "    <tr>\n",
              "      <th>1</th>\n",
              "      <td>389664</td>\n",
              "      <td>389664</td>\n",
              "      <td>Grofers Mother's Choice Unpolished Chana Dal</td>\n",
              "      <td>8108</td>\n",
              "      <td>Chana Dal</td>\n",
              "      <td>10488</td>\n",
              "      <td>Grofers Mother's Choice</td>\n",
              "      <td>Grofers Mother's Choice Chana Dal</td>\n",
              "      <td>1 kg</td>\n",
              "      <td>kg</td>\n",
              "      <td>120</td>\n",
              "      <td>109</td>\n",
              "      <td>106.0</td>\n",
              "      <td>0.1090</td>\n",
              "      <td>0.106</td>\n",
              "      <td>9</td>\n",
              "      <td>11.0</td>\n",
              "      <td>4.2</td>\n",
              "    </tr>\n",
              "    <tr>\n",
              "      <th>2</th>\n",
              "      <td>390068</td>\n",
              "      <td>390068</td>\n",
              "      <td>Grofers Mother's Choice Jaggery</td>\n",
              "      <td>2763</td>\n",
              "      <td>Jaggery</td>\n",
              "      <td>10488</td>\n",
              "      <td>Grofers Mother's Choice</td>\n",
              "      <td>Grofers Mother's Choice Jaggery</td>\n",
              "      <td>1 kg</td>\n",
              "      <td>kg</td>\n",
              "      <td>99</td>\n",
              "      <td>99</td>\n",
              "      <td>96.0</td>\n",
              "      <td>0.0990</td>\n",
              "      <td>0.096</td>\n",
              "      <td>0</td>\n",
              "      <td>3.0</td>\n",
              "      <td>4.2</td>\n",
              "    </tr>\n",
              "    <tr>\n",
              "      <th>3</th>\n",
              "      <td>389904</td>\n",
              "      <td>389904</td>\n",
              "      <td>Grofers Mother's Choice Unpolished White Urad ...</td>\n",
              "      <td>12013</td>\n",
              "      <td>Urad Gota</td>\n",
              "      <td>10488</td>\n",
              "      <td>Grofers Mother's Choice</td>\n",
              "      <td>Grofers Mother's Choice Urad Gota</td>\n",
              "      <td>500 g</td>\n",
              "      <td>g</td>\n",
              "      <td>90</td>\n",
              "      <td>89</td>\n",
              "      <td>86.0</td>\n",
              "      <td>0.1780</td>\n",
              "      <td>0.172</td>\n",
              "      <td>1</td>\n",
              "      <td>4.0</td>\n",
              "      <td>4.2</td>\n",
              "    </tr>\n",
              "    <tr>\n",
              "      <th>4</th>\n",
              "      <td>389684</td>\n",
              "      <td>389684</td>\n",
              "      <td>Grofers Mother's Choice Cumin Seeds/Jeera</td>\n",
              "      <td>1938</td>\n",
              "      <td>Cumin Seeds</td>\n",
              "      <td>10488</td>\n",
              "      <td>Grofers Mother's Choice</td>\n",
              "      <td>Grofers Mother's Choice Cumin Seeds</td>\n",
              "      <td>200 g</td>\n",
              "      <td>g</td>\n",
              "      <td>90</td>\n",
              "      <td>73</td>\n",
              "      <td>70.0</td>\n",
              "      <td>0.3650</td>\n",
              "      <td>0.350</td>\n",
              "      <td>18</td>\n",
              "      <td>22.0</td>\n",
              "      <td>4.2</td>\n",
              "    </tr>\n",
              "    <tr>\n",
              "      <th>5</th>\n",
              "      <td>389875</td>\n",
              "      <td>389875</td>\n",
              "      <td>Grofers Mother's Choice Dosa Rice</td>\n",
              "      <td>11626</td>\n",
              "      <td>Dosa Rice</td>\n",
              "      <td>10488</td>\n",
              "      <td>Grofers Mother's Choice</td>\n",
              "      <td>Grofers Mother's Choice Dosa Rice</td>\n",
              "      <td>1 kg</td>\n",
              "      <td>kg</td>\n",
              "      <td>62</td>\n",
              "      <td>47</td>\n",
              "      <td>45.0</td>\n",
              "      <td>0.0470</td>\n",
              "      <td>0.045</td>\n",
              "      <td>24</td>\n",
              "      <td>27.0</td>\n",
              "      <td>4.2</td>\n",
              "    </tr>\n",
              "    <tr>\n",
              "      <th>6</th>\n",
              "      <td>389727</td>\n",
              "      <td>389727</td>\n",
              "      <td>Grofers Mother's Choice Maida</td>\n",
              "      <td>7199</td>\n",
              "      <td>Maida</td>\n",
              "      <td>10488</td>\n",
              "      <td>Grofers Mother's Choice</td>\n",
              "      <td>Grofers Mother's Choice Maida</td>\n",
              "      <td>500g</td>\n",
              "      <td>g</td>\n",
              "      <td>30</td>\n",
              "      <td>27</td>\n",
              "      <td>26.0</td>\n",
              "      <td>0.0540</td>\n",
              "      <td>0.052</td>\n",
              "      <td>10</td>\n",
              "      <td>13.0</td>\n",
              "      <td>4.2</td>\n",
              "    </tr>\n",
              "    <tr>\n",
              "      <th>7</th>\n",
              "      <td>400269</td>\n",
              "      <td>400269</td>\n",
              "      <td>Family Farm Sooji/Rava</td>\n",
              "      <td>10959</td>\n",
              "      <td>Sooji</td>\n",
              "      <td>10535</td>\n",
              "      <td>Family Farm</td>\n",
              "      <td>Family Farm Sooji</td>\n",
              "      <td>1 kg</td>\n",
              "      <td>kg</td>\n",
              "      <td>59</td>\n",
              "      <td>59</td>\n",
              "      <td>57.0</td>\n",
              "      <td>0.0590</td>\n",
              "      <td>0.057</td>\n",
              "      <td>0</td>\n",
              "      <td>3.0</td>\n",
              "      <td>4.2</td>\n",
              "    </tr>\n",
              "    <tr>\n",
              "      <th>8</th>\n",
              "      <td>391297</td>\n",
              "      <td>391297</td>\n",
              "      <td>Grofers Mother's Choice Kachi Ghani Mustard Oi...</td>\n",
              "      <td>6580</td>\n",
              "      <td>Mustard Oil</td>\n",
              "      <td>10488</td>\n",
              "      <td>Grofers Mother's Choice</td>\n",
              "      <td>Grofers Mother's Choice Mustard Oil</td>\n",
              "      <td>1 l</td>\n",
              "      <td>l</td>\n",
              "      <td>145</td>\n",
              "      <td>121</td>\n",
              "      <td>121.0</td>\n",
              "      <td>0.1210</td>\n",
              "      <td>0.121</td>\n",
              "      <td>16</td>\n",
              "      <td>16.0</td>\n",
              "      <td>4.2</td>\n",
              "    </tr>\n",
              "    <tr>\n",
              "      <th>9</th>\n",
              "      <td>10974</td>\n",
              "      <td>10974</td>\n",
              "      <td>Daawat Rozana Super Basmati Rice</td>\n",
              "      <td>11614</td>\n",
              "      <td>Basmati Rice</td>\n",
              "      <td>2404</td>\n",
              "      <td>Daawat</td>\n",
              "      <td>Daawat Basmati Rice</td>\n",
              "      <td>5 kg</td>\n",
              "      <td>kg</td>\n",
              "      <td>435</td>\n",
              "      <td>349</td>\n",
              "      <td>345.0</td>\n",
              "      <td>0.0698</td>\n",
              "      <td>0.069</td>\n",
              "      <td>19</td>\n",
              "      <td>20.0</td>\n",
              "      <td>4.2</td>\n",
              "    </tr>\n",
              "  </tbody>\n",
              "</table>\n",
              "</div>"
            ],
            "text/plain": [
              "   Product_Id  Default_Product_Id  ... Sbc_discount  Rating\n",
              "0      370647              370647  ...         10.0     4.2\n",
              "1      389664              389664  ...         11.0     4.2\n",
              "2      390068              390068  ...          3.0     4.2\n",
              "3      389904              389904  ...          4.0     4.2\n",
              "4      389684              389684  ...         22.0     4.2\n",
              "5      389875              389875  ...         27.0     4.2\n",
              "6      389727              389727  ...         13.0     4.2\n",
              "7      400269              400269  ...          3.0     4.2\n",
              "8      391297              391297  ...         16.0     4.2\n",
              "9       10974               10974  ...         20.0     4.2\n",
              "\n",
              "[10 rows x 18 columns]"
            ]
          },
          "metadata": {
            "tags": []
          },
          "execution_count": 327
        }
      ]
    },
    {
      "cell_type": "code",
      "metadata": {
        "id": "WmqW1WeBkmnT",
        "colab_type": "code",
        "outputId": "64a361c1-ffaf-4d60-dbca-6a91ec7648d2",
        "colab": {
          "base_uri": "https://localhost:8080/",
          "height": 35
        }
      },
      "source": [
        "grofers_df.shape"
      ],
      "execution_count": 328,
      "outputs": [
        {
          "output_type": "execute_result",
          "data": {
            "text/plain": [
              "(394, 18)"
            ]
          },
          "metadata": {
            "tags": []
          },
          "execution_count": 328
        }
      ]
    },
    {
      "cell_type": "code",
      "metadata": {
        "id": "vVNlkgpBgjEI",
        "colab_type": "code",
        "outputId": "2429b8a3-2da5-455d-bb85-4ca6eaf7c108",
        "colab": {
          "base_uri": "https://localhost:8080/",
          "height": 104
        }
      },
      "source": [
        "grofers_df.Unit.unique()"
      ],
      "execution_count": 329,
      "outputs": [
        {
          "output_type": "execute_result",
          "data": {
            "text/plain": [
              "array(['1 l', '1 kg', '500 g', '200 g', '500g', '5 kg', '10 kg', '100g',\n",
              "       '25 kg', '1l', '100 g', '500 ml', '100  g', '50 g', '5 l',\n",
              "       '2x250 g', '2x500 g', '200 ml', '25 g', '20 g', '1 kg + 500 g',\n",
              "       '5l', '500 tablets', '250 g', '300 tablets', '2 l', '500 gm',\n",
              "       '100 gm', '3x1 l', '5kg + 5kg + 1kg'], dtype=object)"
            ]
          },
          "metadata": {
            "tags": []
          },
          "execution_count": 329
        }
      ]
    },
    {
      "cell_type": "code",
      "metadata": {
        "id": "gdQvJtNNgwve",
        "colab_type": "code",
        "outputId": "0ec5d5d5-7e30-47be-d886-61f97e0b4ec1",
        "colab": {
          "base_uri": "https://localhost:8080/",
          "height": 134
        }
      },
      "source": [
        "grofers_df[grofers_df.Unit == '500 tablets']"
      ],
      "execution_count": 330,
      "outputs": [
        {
          "output_type": "execute_result",
          "data": {
            "text/html": [
              "<div>\n",
              "<style scoped>\n",
              "    .dataframe tbody tr th:only-of-type {\n",
              "        vertical-align: middle;\n",
              "    }\n",
              "\n",
              "    .dataframe tbody tr th {\n",
              "        vertical-align: top;\n",
              "    }\n",
              "\n",
              "    .dataframe thead th {\n",
              "        text-align: right;\n",
              "    }\n",
              "</style>\n",
              "<table border=\"1\" class=\"dataframe\">\n",
              "  <thead>\n",
              "    <tr style=\"text-align: right;\">\n",
              "      <th></th>\n",
              "      <th>Product_Id</th>\n",
              "      <th>Default_Product_Id</th>\n",
              "      <th>Name</th>\n",
              "      <th>Type_Id</th>\n",
              "      <th>Item_Type</th>\n",
              "      <th>Brand_Id</th>\n",
              "      <th>Brand</th>\n",
              "      <th>Brand_Type</th>\n",
              "      <th>Unit</th>\n",
              "      <th>Unit_Type</th>\n",
              "      <th>MRP</th>\n",
              "      <th>Price</th>\n",
              "      <th>Sbc_Price</th>\n",
              "      <th>Unit_Price</th>\n",
              "      <th>Sbc_Unit_Price</th>\n",
              "      <th>Discount</th>\n",
              "      <th>Sbc_discount</th>\n",
              "      <th>Rating</th>\n",
              "    </tr>\n",
              "  </thead>\n",
              "  <tbody>\n",
              "    <tr>\n",
              "      <th>255</th>\n",
              "      <td>15474</td>\n",
              "      <td>15474</td>\n",
              "      <td>Sugar Free Gold Sweetener</td>\n",
              "      <td>8732</td>\n",
              "      <td>Sweetener</td>\n",
              "      <td>5331</td>\n",
              "      <td>Sugar Free Gold</td>\n",
              "      <td>Sugar Free Gold Sweetener</td>\n",
              "      <td>500 tablets</td>\n",
              "      <td>tablets</td>\n",
              "      <td>250</td>\n",
              "      <td>238</td>\n",
              "      <td>235.0</td>\n",
              "      <td>0.476</td>\n",
              "      <td>0.47</td>\n",
              "      <td>4</td>\n",
              "      <td>6.0</td>\n",
              "      <td>4.2</td>\n",
              "    </tr>\n",
              "  </tbody>\n",
              "</table>\n",
              "</div>"
            ],
            "text/plain": [
              "     Product_Id  Default_Product_Id  ... Sbc_discount  Rating\n",
              "255       15474               15474  ...          6.0     4.2\n",
              "\n",
              "[1 rows x 18 columns]"
            ]
          },
          "metadata": {
            "tags": []
          },
          "execution_count": 330
        }
      ]
    },
    {
      "cell_type": "code",
      "metadata": {
        "id": "6gvwlYcESdu0",
        "colab_type": "code",
        "outputId": "37ddec27-b594-46b4-d349-af62cca12380",
        "colab": {
          "base_uri": "https://localhost:8080/",
          "height": 35
        }
      },
      "source": [
        "data['result']['products'][0]['type_id']"
      ],
      "execution_count": 331,
      "outputs": [
        {
          "output_type": "execute_result",
          "data": {
            "text/plain": [
              "2015"
            ]
          },
          "metadata": {
            "tags": []
          },
          "execution_count": 331
        }
      ]
    },
    {
      "cell_type": "code",
      "metadata": {
        "id": "QGMHm-ypHENx",
        "colab_type": "code",
        "colab": {}
      },
      "source": [
        "#from selenium import webdriver\n",
        "from bs4 import BeautifulSoup as BS\n",
        "import pandas as pd"
      ],
      "execution_count": 0,
      "outputs": []
    },
    {
      "cell_type": "code",
      "metadata": {
        "id": "SfVvRaPrH4hw",
        "colab_type": "code",
        "colab": {}
      },
      "source": [
        "#url = 'https://www.flipkart.com/mobiles/pr?sid=tyy,4io&otracker=categorytree'\n",
        "#url = \"https://www.flipkart.com/televisions/pr?sid=ckf,czl&otracker=categorytree\"\n",
        "url = \"https://www.flipkart.com/televisions/pr?sid=ckf%2Cczl&otracker=categorytree&page=1\"\n",
        "agent = {\"User-Agent\":'Mozilla/5.0 (Windows NT 6.3; WOW64) AppleWebKit/537.36 (KHTML, like Gecko) Chrome/59.0.3071.115 Safari/537.36'}\n",
        "page = requests.get(url, headers=agent)\n"
      ],
      "execution_count": 0,
      "outputs": []
    },
    {
      "cell_type": "code",
      "metadata": {
        "id": "zHSKZ7atsXA-",
        "colab_type": "code",
        "colab": {}
      },
      "source": [
        "from lxml import html"
      ],
      "execution_count": 0,
      "outputs": []
    },
    {
      "cell_type": "code",
      "metadata": {
        "id": "4QrRhLolsj2K",
        "colab_type": "code",
        "colab": {}
      },
      "source": [
        "parser = html.fromstring(page.content)\n",
        "strJson = parser.xpath('//script[@id=\"is_script\"]')[0]\n",
        "jObject = json.loads(strJson.text.replace(\n",
        "'window.__INITIAL_STATE__ = ', '').replace('};', '}'))"
      ],
      "execution_count": 0,
      "outputs": []
    },
    {
      "cell_type": "code",
      "metadata": {
        "id": "Yv-DryoUus-j",
        "colab_type": "code",
        "outputId": "5b04b970-c4b7-4b64-fb1c-ef65396ce118",
        "colab": {
          "base_uri": "https://localhost:8080/",
          "height": 35
        }
      },
      "source": [
        "jObject['pageDataV4']['browseMetadata']['totalProducts']"
      ],
      "execution_count": 336,
      "outputs": [
        {
          "output_type": "execute_result",
          "data": {
            "text/plain": [
              "1432"
            ]
          },
          "metadata": {
            "tags": []
          },
          "execution_count": 336
        }
      ]
    },
    {
      "cell_type": "code",
      "metadata": {
        "id": "2cyNjriz4qOY",
        "colab_type": "code",
        "colab": {
          "base_uri": "https://localhost:8080/",
          "height": 35
        },
        "outputId": "54dda7e2-9a4c-4d78-e2bb-6d019caf1481"
      },
      "source": [
        "jObject['pageDataV4']['page']['data']['10003'][24]['widget']['data']['products'][0]['productInfo']['action']['params']['productId']\n",
        "jObject['pageDataV4']['page']['data']['10003'][24]['widget']['data']['products'][0]['productInfo']['action']['url']"
      ],
      "execution_count": 337,
      "outputs": [
        {
          "output_type": "execute_result",
          "data": {
            "text/plain": [
              "'/samsung-super-6-108cm-43-inch-ultra-hd-4k-led-smart-tv/p/itmfdzq6khv2pcvz?pid=TVSFDZQ6KMPJYWBV&lid=LSTTVSFDZQ6KMPJYWBVM4VFJD&marketplace=FLIPKART'"
            ]
          },
          "metadata": {
            "tags": []
          },
          "execution_count": 337
        }
      ]
    },
    {
      "cell_type": "code",
      "metadata": {
        "id": "xToc9pQ56_VR",
        "colab_type": "code",
        "colab": {}
      },
      "source": [
        "base_data = jObject['pageDataV4']['page']['data']['10003'][24]['widget']['data']['products'][0]['productInfo']['value']\n",
        "#base_data\n"
      ],
      "execution_count": 0,
      "outputs": []
    },
    {
      "cell_type": "code",
      "metadata": {
        "id": "oOhJmiLh7nLz",
        "colab_type": "code",
        "colab": {
          "base_uri": "https://localhost:8080/",
          "height": 35
        },
        "outputId": "c2742104-e79b-41b8-d93f-5fbf5955bc72"
      },
      "source": [
        "base_data['itemId']\n",
        "base_data['productBrand']\n",
        "base_data['analyticsData']['category']\n",
        "base_data['analyticsData']['subCategory']\n",
        "base_data['analyticsData']['superCategory']\n",
        "base_data['baseUrl']\n",
        "base_data['keySpecs']\n",
        "base_data['minKeySpecs']\n",
        "base_data['pricing']['discountAmount']\n",
        "base_data['pricing']['extraDiscount']\n",
        "base_data['pricing']['finalPrice']['currency']\n",
        "base_data['pricing']['finalPrice']['decimalValue']\n",
        "base_data['pricing']['mrp']['currency']\n",
        "base_data['pricing']['mrp']['decimalValue']\n",
        "base_data['pricing']['totalDiscount']\n",
        "base_data['rating']['average']\n",
        "base_data['rating']['count']\n",
        "base_data['rating']['reviewCount']"
      ],
      "execution_count": 340,
      "outputs": [
        {
          "output_type": "execute_result",
          "data": {
            "text/plain": [
              "772"
            ]
          },
          "metadata": {
            "tags": []
          },
          "execution_count": 340
        }
      ]
    },
    {
      "cell_type": "code",
      "metadata": {
        "id": "yCaOMJseoMWi",
        "colab_type": "code",
        "colab": {
          "base_uri": "https://localhost:8080/",
          "height": 35
        },
        "outputId": "4585cf58-a700-4ee3-c232-034355c03aa4"
      },
      "source": [
        "soup = BS(page.content, 'lxml')\n",
        "page_nav = soup.find('nav', class_='_1ypTlJ').text\n",
        "pages_cnt = soup.find('div', class_='_2zg3yZ')\n",
        "dat = pages_cnt.text\n",
        "dat = dat.replace(page_nav, '')\n",
        "pages_cnt = int(dat.replace('Page 1 of ', ''))\n",
        "pages_cnt\n",
        "#soup"
      ],
      "execution_count": 341,
      "outputs": [
        {
          "output_type": "execute_result",
          "data": {
            "text/plain": [
              "60"
            ]
          },
          "metadata": {
            "tags": []
          },
          "execution_count": 341
        }
      ]
    },
    {
      "cell_type": "code",
      "metadata": {
        "id": "d2k3VF6JoUaJ",
        "colab_type": "code",
        "colab": {}
      },
      "source": [
        "#soup.find('div', class_='_3wU53n')"
      ],
      "execution_count": 0,
      "outputs": []
    },
    {
      "cell_type": "code",
      "metadata": {
        "id": "XmBKY_PjGqzK",
        "colab_type": "code",
        "colab": {}
      },
      "source": [
        "import numpy as np\n"
      ],
      "execution_count": 0,
      "outputs": []
    },
    {
      "cell_type": "code",
      "metadata": {
        "id": "3k-tjW8moW0d",
        "colab_type": "code",
        "colab": {
          "base_uri": "https://localhost:8080/",
          "height": 35
        },
        "outputId": "67bdc2db-8b17-4515-eb3f-c9bfac6a1569"
      },
      "source": [
        "products=[]\n",
        "prices=[]\n",
        "ratings=[]\n",
        "ratings_cnt=[]\n",
        "product_dtls=[]\n",
        "\n",
        "agent = {\"User-Agent\":'Mozilla/5.0 (Windows NT 6.3; WOW64) AppleWebKit/537.36 (KHTML, like Gecko) Chrome/59.0.3071.115 Safari/537.36'}\n",
        "\n",
        "pages_cnt=20\n",
        "pages_cnt = pages_cnt + 1 #because stating with 1\n",
        "for i in range(1,pages_cnt,1):\n",
        "  url = 'https://www.flipkart.com/televisions/pr?sid=ckf%2Cczl&otracker=categorytree&page='+str(i)\n",
        "  #print(url)\n",
        "  page = requests.get(url, headers=agent)\t\n",
        "  soup = BS(page.content, 'lxml')\n",
        "  \n",
        "  for a in soup.findAll('a',href=True, attrs={'class':'_31qSD5'}):\n",
        "    dat=a.find('div', attrs={'class':'_3wU53n'})\n",
        "    if dat is None:\n",
        "      products.append(np.nan)\n",
        "    else:\n",
        "      products.append(dat.text.strip())\n",
        "\n",
        "    dat=a.find('div', attrs={'class':'_1vC4OE _2rQ-NK'})\n",
        "    if dat is None:\n",
        "      prices.append(np.nan)\n",
        "    else:\n",
        "      prices.append(dat.text)\n",
        "\n",
        "    dat=a.find('div', attrs={'class':'hGSR34'})\n",
        "    if dat is None:\n",
        "      ratings.append(np.nan)\n",
        "    else:\n",
        "      ratings.append(dat.text)\n",
        "\n",
        "    dat=a.find('span', class_=\"_38sUEc\")\n",
        "    if dat is None:\n",
        "      ratings_cnt.append(np.nan)\n",
        "    else:\n",
        "      ratings_cnt.append(dat.text)\n",
        "    \n",
        "\n",
        "    dat=a.find('div',attrs={'class':'_3ULzGw'})\n",
        "    if dat is None:\n",
        "      product_dtls.append(np.nan)\n",
        "    else:\n",
        "      product_dtls.append(dat.text)\n",
        "\n",
        "print(\"Pulled data from\",pages_cnt-1,\"pages\")\n",
        "#print(products)\n",
        "#print(ratings)\n",
        "#print(ratings_cnt)\n",
        "#print(prices)\n",
        "#print(product_dtls)"
      ],
      "execution_count": 343,
      "outputs": [
        {
          "output_type": "stream",
          "text": [
            "Pulled data from 21 pages\n"
          ],
          "name": "stdout"
        }
      ]
    },
    {
      "cell_type": "code",
      "metadata": {
        "id": "jFXaNMZGojMc",
        "colab_type": "code",
        "colab": {
          "base_uri": "https://localhost:8080/",
          "height": 355
        },
        "outputId": "fe29e5f0-623d-4bf7-c465-1e7810cf19d1"
      },
      "source": [
        "flipkart_df = pd.DataFrame({'Product':products,\n",
        "                            'Price':prices,\n",
        "                            'Rating': ratings,\n",
        "                            'Rating_Counts': ratings_cnt,\n",
        "                            'Product_Details': product_dtls})\n",
        "flipkart_df.head(10)"
      ],
      "execution_count": 344,
      "outputs": [
        {
          "output_type": "execute_result",
          "data": {
            "text/html": [
              "<div>\n",
              "<style scoped>\n",
              "    .dataframe tbody tr th:only-of-type {\n",
              "        vertical-align: middle;\n",
              "    }\n",
              "\n",
              "    .dataframe tbody tr th {\n",
              "        vertical-align: top;\n",
              "    }\n",
              "\n",
              "    .dataframe thead th {\n",
              "        text-align: right;\n",
              "    }\n",
              "</style>\n",
              "<table border=\"1\" class=\"dataframe\">\n",
              "  <thead>\n",
              "    <tr style=\"text-align: right;\">\n",
              "      <th></th>\n",
              "      <th>Product</th>\n",
              "      <th>Price</th>\n",
              "      <th>Rating</th>\n",
              "      <th>Rating_Counts</th>\n",
              "      <th>Product_Details</th>\n",
              "    </tr>\n",
              "  </thead>\n",
              "  <tbody>\n",
              "    <tr>\n",
              "      <th>0</th>\n",
              "      <td>Mi 4A PRO 80 cm (32) HD Ready LED Smart Androi...</td>\n",
              "      <td>₹12,499</td>\n",
              "      <td>4.4</td>\n",
              "      <td>2,63,063 Ratings &amp; 28,746 Reviews</td>\n",
              "      <td>Netflix|Prime Video|Disney+Hotstar|YoutubeOper...</td>\n",
              "    </tr>\n",
              "    <tr>\n",
              "      <th>1</th>\n",
              "      <td>Samsung Series 4 80cm (32 inch) HD Ready LED S...</td>\n",
              "      <td>₹13,999</td>\n",
              "      <td>4.3</td>\n",
              "      <td>35,015 Ratings &amp; 4,454 Reviews</td>\n",
              "      <td>Netflix|Prime Video|Disney+Hotstar|YoutubeOper...</td>\n",
              "    </tr>\n",
              "    <tr>\n",
              "      <th>2</th>\n",
              "      <td>Vu Premium 108cm (43 inch) Ultra HD (4K) LED S...</td>\n",
              "      <td>₹25,999</td>\n",
              "      <td>4.5</td>\n",
              "      <td>1,674 Ratings &amp; 393 Reviews</td>\n",
              "      <td>Netflix|Prime Video|Disney+Hotstar|YoutubeOper...</td>\n",
              "    </tr>\n",
              "    <tr>\n",
              "      <th>3</th>\n",
              "      <td>Mi 4A Pro 108 cm (43) Full HD LED Smart Androi...</td>\n",
              "      <td>₹21,999</td>\n",
              "      <td>4.4</td>\n",
              "      <td>1,26,614 Ratings &amp; 13,396 Reviews</td>\n",
              "      <td>Netflix|Prime Video|Disney+Hotstar|YoutubeOper...</td>\n",
              "    </tr>\n",
              "    <tr>\n",
              "      <th>4</th>\n",
              "      <td>Mi 4X 108 cm (43) Ultra HD (4K) LED Smart Andr...</td>\n",
              "      <td>₹24,999</td>\n",
              "      <td>4.4</td>\n",
              "      <td>17,638 Ratings &amp; 2,247 Reviews</td>\n",
              "      <td>Netflix|Prime Video|Disney+Hotstar|YoutubeOper...</td>\n",
              "    </tr>\n",
              "    <tr>\n",
              "      <th>5</th>\n",
              "      <td>Mi 4A 100 cm (40) Full HD LED Smart Android TV</td>\n",
              "      <td>₹17,999</td>\n",
              "      <td>4.3</td>\n",
              "      <td>26,011 Ratings &amp; 2,761 Reviews</td>\n",
              "      <td>Netflix|Prime Video|Disney+Hotstar|YoutubeOper...</td>\n",
              "    </tr>\n",
              "    <tr>\n",
              "      <th>6</th>\n",
              "      <td>Vu Premium 80cm (32 inch) HD Ready LED Smart A...</td>\n",
              "      <td>₹11,999</td>\n",
              "      <td>4.4</td>\n",
              "      <td>2,506 Ratings &amp; 436 Reviews</td>\n",
              "      <td>Netflix|Prime Video|Disney+Hotstar|YoutubeOper...</td>\n",
              "    </tr>\n",
              "    <tr>\n",
              "      <th>7</th>\n",
              "      <td>Vu Pixelight 138cm (55 inch) Ultra HD (4K) LED...</td>\n",
              "      <td>₹33,999</td>\n",
              "      <td>4.4</td>\n",
              "      <td>5,081 Ratings &amp; 776 Reviews</td>\n",
              "      <td>Netflix|YoutubeOperating System: LinuxUltra HD...</td>\n",
              "    </tr>\n",
              "    <tr>\n",
              "      <th>8</th>\n",
              "      <td>Vu Pixelight 138cm (55 inch) Ultra HD (4K) LED...</td>\n",
              "      <td>₹28,999</td>\n",
              "      <td>4.4</td>\n",
              "      <td>22,116 Ratings &amp; 2,921 Reviews</td>\n",
              "      <td>Netflix|Prime Video|YoutubeOperating System: L...</td>\n",
              "    </tr>\n",
              "    <tr>\n",
              "      <th>9</th>\n",
              "      <td>Vu Premium 108cm (43 inch) Full HD LED Smart A...</td>\n",
              "      <td>₹20,499</td>\n",
              "      <td>4.4</td>\n",
              "      <td>2,506 Ratings &amp; 436 Reviews</td>\n",
              "      <td>Netflix|Prime Video|Disney+Hotstar|YoutubeOper...</td>\n",
              "    </tr>\n",
              "  </tbody>\n",
              "</table>\n",
              "</div>"
            ],
            "text/plain": [
              "                                             Product  ...                                    Product_Details\n",
              "0  Mi 4A PRO 80 cm (32) HD Ready LED Smart Androi...  ...  Netflix|Prime Video|Disney+Hotstar|YoutubeOper...\n",
              "1  Samsung Series 4 80cm (32 inch) HD Ready LED S...  ...  Netflix|Prime Video|Disney+Hotstar|YoutubeOper...\n",
              "2  Vu Premium 108cm (43 inch) Ultra HD (4K) LED S...  ...  Netflix|Prime Video|Disney+Hotstar|YoutubeOper...\n",
              "3  Mi 4A Pro 108 cm (43) Full HD LED Smart Androi...  ...  Netflix|Prime Video|Disney+Hotstar|YoutubeOper...\n",
              "4  Mi 4X 108 cm (43) Ultra HD (4K) LED Smart Andr...  ...  Netflix|Prime Video|Disney+Hotstar|YoutubeOper...\n",
              "5     Mi 4A 100 cm (40) Full HD LED Smart Android TV  ...  Netflix|Prime Video|Disney+Hotstar|YoutubeOper...\n",
              "6  Vu Premium 80cm (32 inch) HD Ready LED Smart A...  ...  Netflix|Prime Video|Disney+Hotstar|YoutubeOper...\n",
              "7  Vu Pixelight 138cm (55 inch) Ultra HD (4K) LED...  ...  Netflix|YoutubeOperating System: LinuxUltra HD...\n",
              "8  Vu Pixelight 138cm (55 inch) Ultra HD (4K) LED...  ...  Netflix|Prime Video|YoutubeOperating System: L...\n",
              "9  Vu Premium 108cm (43 inch) Full HD LED Smart A...  ...  Netflix|Prime Video|Disney+Hotstar|YoutubeOper...\n",
              "\n",
              "[10 rows x 5 columns]"
            ]
          },
          "metadata": {
            "tags": []
          },
          "execution_count": 344
        }
      ]
    },
    {
      "cell_type": "code",
      "metadata": {
        "id": "ERYVJuSvo784",
        "colab_type": "code",
        "colab": {
          "base_uri": "https://localhost:8080/",
          "height": 35
        },
        "outputId": "ea1511ae-cc88-4855-fcdc-386034b36b81"
      },
      "source": [
        "flipkart_df.shape"
      ],
      "execution_count": 345,
      "outputs": [
        {
          "output_type": "execute_result",
          "data": {
            "text/plain": [
              "(480, 5)"
            ]
          },
          "metadata": {
            "tags": []
          },
          "execution_count": 345
        }
      ]
    }
  ]
}